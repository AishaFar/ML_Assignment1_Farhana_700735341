{
 "cells": [
  {
   "cell_type": "code",
   "execution_count": 23,
   "metadata": {},
   "outputs": [
    {
     "name": "stdout",
     "output_type": "stream",
     "text": [
      "sorted list is : [19, 19, 20, 22, 24, 24, 25, 25, 26]\n",
      "Max age is : 26\n",
      "Min age  is : 19\n",
      "after the adding of the min age again to the list : [19, 19, 20, 22, 24, 24, 25, 25, 26, 19]\n",
      "after the adding of the max age again to the list : [19, 19, 20, 22, 24, 24, 25, 25, 26, 19, 26]\n",
      "Median of 19,22,19,24,25,26,25,24  is : [19, 22, 19, 24, 20, 25, 26, 25, 24]\n",
      "Average  age = 22.667\n",
      "range of ages   : 7\n"
     ]
    }
   ],
   "source": [
    "################question1#####Given,list of 10 students ages\n",
    "\n",
    "\n",
    "#Sort the list and find the min and max age\n",
    "# sorting the list\n",
    "ages = [19,22,19,24,20,25,26,25,24]\n",
    "ages.sort()\n",
    "print(\"sorted list is : \",end=\"\") #sorting the list\n",
    "print(ages)\n",
    "# max age\n",
    "print(\"Max age is : \",end=\"\") #finding the max age\n",
    "print(max(ages))\n",
    "# min age\n",
    "print(\"Min age  is : \",end=\"\") #finding the min age\n",
    "print(min(ages))\n",
    "\n",
    "#Add the min age and the max age again to the list\n",
    "# adding min age to the list \n",
    "ages.extend([min(ages)])\n",
    "print(\"after the adding of the min age again to the list : \",end=\"\")\n",
    "print(ages)\n",
    "# adding max age to the list\n",
    "ages.extend([max(ages)])\n",
    "print(\"after the adding of the max age again to the list : \",end=\"\")\n",
    "print(ages)\n",
    "\n",
    "\n",
    "#Find the median age (one middle item or two middle items divided by two)\n",
    "import statistics\n",
    "ages = [19,22,19,24,20,25,26,25,24]\n",
    "print(\"Median of 19,22,19,24,25,26,25,24  is : \",end=\"\")\n",
    "print(statistics.median([ages]))\n",
    "\n",
    "\n",
    "#Find the average age (sum of all items divided by their number)\n",
    "def Average(ages):\n",
    "\treturn sum(ages) / len(ages)\n",
    "ages = [19,22,19,24,20,25,26,25,24]\n",
    "average = Average(ages)\n",
    "print(\"Average  age =\", round(average, 3))\n",
    "\n",
    "#Find the range of the ages (max minus min)\n",
    "ages = [19,22,19,24,20,25,26,25,24]\n",
    "maximum_value = max(ages)\n",
    "minimum_value = min(ages)\n",
    "range1 = maximum_value - minimum_value\n",
    "print(\"range of ages   : \",end=\"\")\n",
    "print(range1)"
   ]
  },
  {
   "cell_type": "code",
   "execution_count": 4,
   "metadata": {},
   "outputs": [
    {
     "name": "stdout",
     "output_type": "stream",
     "text": [
      "{'name': 'Blondie', 'colour': 'Golden brown', 'breed': 'Golden Retriever', 'legs': 'Four', 'age': 'Eight years'}\n",
      "{'first_name': 'ayesha', 'last_name': 'farhana', 'gender': 'female', 'age': '24', 'marital status': 'married', 'skills': 'Collaboration talent', 'country': 'india', 'city': 'warangal', 'address': '#731 st'}\n",
      "9\n",
      "Collaboration talent\n",
      "<class 'str'>\n",
      "{'first_name': 'ayesha', 'last_name': 'farhana', 'gender': 'female', 'age': '24', 'marital status': 'married', 'skills': 'Collaboration talent,Leadership experience', 'country': 'india', 'city': 'warangal', 'address': '#731 st'}\n",
      "dict_keys(['first_name', 'last_name', 'gender', 'age', 'marital status', 'skills', 'country', 'city', 'address'])\n",
      "dict_values(['ayesha', 'farhana', 'female', '24', 'married', 'Collaboration talent', 'india', 'warangal', '#731 st'])\n"
     ]
    }
   ],
   "source": [
    "################question2##### \n",
    "\n",
    "#Create an empty dictionary called dog\n",
    "\n",
    "dog = {}\n",
    "\n",
    "#Add name, color, breed, legs, age to the dog dictionary\n",
    "dog[\"name\"] = \"Blondie\"\n",
    "dog[\"colour\"] = \"Golden brown\"\n",
    "dog[\"breed\"] = \"Golden Retriever\"\n",
    "dog[\"legs\"] = \"Four\"\n",
    "dog[\"age\"]= \"Eight years\"\n",
    "print(dog)\n",
    "\n",
    "#Create a student dictionary and add first_name, last_name, gender, age, marital status, \n",
    "#skills, country, city and address as keys for the dictionary\n",
    "student = {\"first_name\":\"ayesha\",\"last_name\":\"farhana\",\"gender\":\"female\",\"age\":\"24\",\"marital status\":\"married\",\"skills\":\"Collaboration talent\",\"country\":\"india\",\"city\":\"warangal\",\"address\":\"#731 st\"}\n",
    "print(student)\n",
    "\n",
    "#Get the length of the student dictionary\n",
    "\n",
    "p=len(student)\n",
    "print(p)\n",
    "\n",
    "#Get the value of skills and check the data type, it should be a list\n",
    "print(student[\"skills\"])\n",
    "print(type(student[\"skills\"]))\n",
    "\n",
    "#Modify the skills values by adding one or two skills\n",
    "student[\"skills\"]=\"Collaboration talent,Leadership experience\"\n",
    "print(student)\n",
    "\n",
    "#Get the dictionary keys as a list\n",
    "student = {\"first_name\":\"ayesha\",\"last_name\":\"farhana\",\"gender\":\"female\",\"age\":\"24\",\"marital status\":\"married\",\"skills\":\"Collaboration talent\",\"country\":\"india\",\"city\":\"warangal\",\"address\":\"#731 st\"}\n",
    "keyslist =(student.keys())\n",
    "print(keyslist)\n",
    "\n",
    "#Get the dictionary values as a list\n",
    "keyslist = (student.values())\n",
    "print(keyslist)\n"
   ]
  },
  {
   "cell_type": "code",
   "execution_count": 6,
   "metadata": {},
   "outputs": [
    {
     "name": "stdout",
     "output_type": "stream",
     "text": [
      "\n",
      "Tuple names of your sisters and your brothers: \n",
      "('adil', 'awez', 'mohtadun')\n",
      "('shaziya', 'amena', 'zeba')\n",
      "('adil', 'awez', 'mohtadun', 'shaziya', 'amena', 'zeba')\n",
      "6\n",
      "('adil', 'awez', 'mohtadun', 'shaziya', 'amena', 'zeba', 'rasheed', 'sulthana')\n"
     ]
    }
   ],
   "source": [
    "#########################Question3###\n",
    "\n",
    "\n",
    "#Create a tuple containing names of your sisters and your brothers (imaginary siblings are \n",
    "#fine)\n",
    "# with the use of string\n",
    "bros_tuple1 = ('adil', 'awez', 'mohtadun') #names of your brothers\n",
    "sisters_tuple2 = ('shaziya', 'amena', 'zeba') #names of your sisters\n",
    "print(\"\\nTuple names of your sisters and your brothers: \")\n",
    "print(bros_tuple1)\n",
    "print(sisters_tuple2)\n",
    "\n",
    "\n",
    "#Join brothers and sisters tuples and assign it to siblings\n",
    "siblings = bros_tuple1+sisters_tuple2\n",
    "print(siblings)\n",
    "\n",
    "#How many siblings do you have?\n",
    "count=len(siblings)\n",
    "print(count)\n",
    "\n",
    "#Modify the siblings tuple and add the name of your father and mother and assign it to \n",
    "#family_members\n",
    "family_members = list(siblings)\n",
    "family_members = siblings + ('rasheed','sulthana')  #modifying with father and mother\n",
    "siblings = tuple(family_members)\n",
    "print(siblings)"
   ]
  },
  {
   "cell_type": "code",
   "execution_count": 8,
   "metadata": {},
   "outputs": [
    {
     "name": "stdout",
     "output_type": "stream",
     "text": [
      "7\n",
      "('Amazon', 'Facebook', 'Microsoft', 'Apple', 'Google', 'Oracle', 'IBM', 'Twitter')\n",
      "('Amazon', 'Facebook', 'Microsoft', 'Apple', 'Google', 'Oracle', 'IBM', 'Twitter', 'Tata Consultancy service', 'HCL', 'Cognizant', 'Infosys', 'Atmacs')\n",
      "Removed one company: ('Amazon', 'Facebook', 'Microsoft', 'Apple', 'Oracle', 'IBM', 'Twitter', 'Tata Consultancy service', 'HCL', 'Cognizant', 'Infosys', 'Atmacs')\n",
      "Joining A and B: (19, 20, 22, 24, 25, 26, 19, 20, 22, 24, 25, 26, 27, 28)\n",
      "A intersection B: {19, 20, 22, 24, 25, 26}\n",
      "A is subset of B:True\n",
      "A and B disjoint sets: False\n",
      "(19, 20, 22, 24, 25, 26, 19, 20, 22, 24, 25, 26, 27, 28)\n",
      "(19, 20, 22, 24, 25, 26, 27, 28, 19, 20, 22, 24, 25, 26)\n",
      "Join A with B and B with A: (19, 20, 22, 24, 25, 26, 19, 20, 22, 24, 25, 26, 27, 28, 19, 20, 22, 24, 25, 26, 27, 28, 19, 20, 22, 24, 25, 26)\n",
      "the symmetric difference between A and B is: {27, 28}\n",
      "updated A set None\n",
      "updated B set None\n",
      "Converting the ages to a set is: {19, 22, 24, 25, 26}\n",
      "the length of the list: 8\n",
      "the length of the set: 5\n"
     ]
    }
   ],
   "source": [
    "################question4##### Given\n",
    "\n",
    "it_companies = {'Facebook', 'Google', 'Microsoft', 'Apple', 'IBM', 'Oracle', 'Amazon'}\n",
    "A = {19, 22, 24, 20, 25, 26}\n",
    "B = {19, 22, 20, 25, 26, 24, 28, 27}\n",
    "age = [22, 19, 24, 25, 26, 24, 25, 24]\n",
    "\n",
    "# Find the length of the set it_companies\n",
    "count=len(it_companies)\n",
    "print(count)\n",
    "\n",
    "#Add 'Twitter' to it_companies\n",
    "newTuple = ('Twitter',)\n",
    "it_companies = tuple(it_companies) + newTuple\n",
    "\n",
    "print(it_companies)\n",
    "\n",
    "\n",
    "#Insert multiple IT companies at once to the set it_companies\n",
    "newTuple1 = ('Tata Consultancy service' , 'HCL', 'Cognizant', 'Infosys', 'Atmacs', )\n",
    "it_companies = tuple(it_companies) + newTuple1\n",
    "print(it_companies)\n",
    "\n",
    "#Remove one of the companies from the set it_companies\n",
    "z = list(it_companies)\n",
    "z.remove('Google')\n",
    "it_companies_remove = tuple(z)\n",
    "print(\"Removed one company:\",it_companies_remove)\n",
    "\n",
    "\n",
    "#What is the difference between remove and discard\n",
    "#The discard() method removes the specified item from the set. This method is different from the remove() method, because the remove() method will raise an error if the specified item does not exist, and the discard() method will not.\n",
    "\n",
    "\n",
    "#Join A and B\n",
    "J = tuple(A) + tuple(B)\n",
    "print(\"Joining A and B:\",J)\n",
    "\n",
    "#Find A intersection B\n",
    "z = A.intersection(B)\n",
    "\n",
    "print(\"A intersection B:\",z)\n",
    "\n",
    "# Is A subset of B\n",
    "print(\"A is subset of B:\" ,end=\"\")\n",
    "print(A.issubset(B))\n",
    "\n",
    "#Are A and B disjoint sets\n",
    "result = A.isdisjoint(B)\n",
    "print(\"A and B disjoint sets:\", result)\n",
    "\n",
    "#Join A with B and B with A\n",
    "AB= tuple(A) + tuple(B)\n",
    "print(AB)\n",
    "BA= tuple(B) + tuple(A)\n",
    "print(BA)\n",
    "ABA = AB + BA\n",
    "print(\"Join A with B and B with A:\",ABA)\n",
    "\n",
    "#What is the symmetric difference between A and B\n",
    "symmetric_dif= A.symmetric_difference(B)\n",
    "print(\"the symmetric difference between A and B is:\",symmetric_dif)\n",
    "\n",
    "#Delete the sets completely\n",
    "c = A.clear()\n",
    "print(\"updated A set\", c)\n",
    "\n",
    "d = B.clear()\n",
    "print(\"updated B set\", d)\n",
    "\n",
    "#Convert the ages to a set and compare the length of the list and the set.\n",
    "age_set  = set(age)\n",
    "print(\"Converting the ages to a set is:\" ,age_set)\n",
    "\n",
    "list_length=len(age)\n",
    "print(\"the length of the list:\" ,list_length)\n",
    "\n",
    "set_length=len(age_set)\n",
    "print(\"the length of the set:\" ,set_length)"
   ]
  },
  {
   "cell_type": "code",
   "execution_count": 10,
   "metadata": {},
   "outputs": [
    {
     "name": "stdout",
     "output_type": "stream",
     "text": [
      "Area of a circle = 2826.00\n",
      "Circumference of a circle = 188.40\n",
      "Enter the radius of a circle:10\n",
      "Area of a circle = 314.00\n"
     ]
    }
   ],
   "source": [
    "#########################################question5##### Given\n",
    "#The radius of a circle is 30 meters.\n",
    "\n",
    "radius_of_circle = 30\n",
    "\n",
    "#Calculate the area of a circle and assign the value to a variable name of _area_of_circle_\n",
    "pi = 3.14\n",
    "_area_of_circle_= pi * radius_of_circle * radius_of_circle\n",
    "print(\"Area of a circle = %.2f\" %_area_of_circle_)\n",
    "\n",
    "#Calculate the circumference of a circle and assign the value to a variable name of _circum_of_circle\n",
    "_circum_of_circle = 2 * pi * radius_of_circle\n",
    "print(\"Circumference of a circle = %.2f\" %_circum_of_circle)\n",
    "\n",
    "#Take radius as user input and calculate the area.\n",
    "radiusOfCircle = float(input(\"Enter the radius of a circle:\")) # User input\n",
    "area = pi * radiusOfCircle * radiusOfCircle  #Area Formula\n",
    "print(\"Area of a circle = %.2f\" %area)"
   ]
  },
  {
   "cell_type": "code",
   "execution_count": 16,
   "metadata": {},
   "outputs": [
    {
     "name": "stdout",
     "output_type": "stream",
     "text": [
      "sentence: I am a teacher and I love to inspire and teach people\n",
      "words split: ['I', 'am', 'a', 'teacher', 'and', 'I', 'love', 'to', 'inspire', 'and', 'teach', 'people']\n",
      "The number of unique words are: 10\n"
     ]
    }
   ],
   "source": [
    "################question6##### Given\n",
    "#“I am a teacher and I love to inspire and teach people”\n",
    "\n",
    "#• How many unique words have been used in the sentence? Use the split methods and set \n",
    "#to get the unique words.\n",
    "sentence = \"I am a teacher and I love to inspire and teach people\"\n",
    "print(\"sentence:\", sentence)\n",
    "allWords = sentence.split()\n",
    "print(\"words split:\", allWords)\n",
    "unique_words = set(allWords)\n",
    "print(\"The number of unique words are:\", len(unique_words))"
   ]
  },
  {
   "cell_type": "code",
   "execution_count": 18,
   "metadata": {},
   "outputs": [
    {
     "name": "stdout",
     "output_type": "stream",
     "text": [
      "Name\t\tAge\tCountry\t\tCity\n",
      "Asabeneh\t250\tFinland\t\tHelsinki\n"
     ]
    }
   ],
   "source": [
    "################question7##### Given\n",
    "#Use a tab escape sequence to get the following lines.\n",
    "#Name Age Country City\n",
    "#Asabeneh 250 Finland Helsinki\n",
    "\n",
    "\n",
    "string1 = \"Name\\t\\tAge\\tCountry\\t\\tCity\"\n",
    "print(string1)\n",
    "string2 = \"Asabeneh\\t250\\tFinland\\t\\tHelsinki\"\n",
    "print(string2)"
   ]
  },
  {
   "cell_type": "code",
   "execution_count": 24,
   "metadata": {},
   "outputs": [
    {
     "name": "stdout",
     "output_type": "stream",
     "text": [
      "The area of a circle with radius 10 is 314.00 meters square.\n"
     ]
    }
   ],
   "source": [
    "###########question8######Given\n",
    "#Use the string formatting method to display the following:\n",
    "#radius = 10\n",
    "#area = 3.14 * radius ** 2\n",
    "#“The area of a circle with radius 10 is 314 meters square.”\n",
    "\n",
    "\n",
    "radius = 10\n",
    "#Area of circle Formula\n",
    "area = 3.14 * radius ** 2\n",
    "#Given sentence in string format\n",
    "value = \"The area of a circle with radius 10 is {area_of_circle:.2f} meters square.\"\n",
    "print(value.format(area_of_circle = 314))"
   ]
  },
  {
   "cell_type": "code",
   "execution_count": 25,
   "metadata": {},
   "outputs": [
    {
     "name": "stdout",
     "output_type": "stream",
     "text": [
      "Enter the number of students: 4\n",
      "\n",
      "Enter the weights: 150 155 145 148\n",
      "\n",
      "L1:  [150, 155, 145, 148]\n",
      "['68.04', '70.31', '65.77', '67.13']\n"
     ]
    }
   ],
   "source": [
    "###########question9######Given\n",
    "#Write a program, which reads weights (lbs.) of N students into a list and convert these weights to \n",
    "#kilograms in a separate list using Loop. N: No of students (Read input from user)\n",
    "#Ex: L1: [150, 155, 145, 148]\n",
    "#Output: [68.03, 70.3, 65.77, 67.13]\n",
    "\n",
    "#number of students\n",
    "s = int(input(\"Enter the number of students: \"))\n",
    "#this line read inputs from user using map() function\n",
    "a = list(map(int,input(\"\\nEnter the weights: \").strip().split()))[:s]\n",
    "print(\"\\nL1: \", a)\n",
    "x=[i*0.453592 for i in a]\n",
    "x=['%.2f' % elem for elem in x]\n",
    "print(x)"
   ]
  }
 ],
 "metadata": {
  "kernelspec": {
   "display_name": "Python 3",
   "language": "python",
   "name": "python3"
  },
  "language_info": {
   "codemirror_mode": {
    "name": "ipython",
    "version": 3
   },
   "file_extension": ".py",
   "mimetype": "text/x-python",
   "name": "python",
   "nbconvert_exporter": "python",
   "pygments_lexer": "ipython3",
   "version": "3.7.6"
  }
 },
 "nbformat": 4,
 "nbformat_minor": 4
}
